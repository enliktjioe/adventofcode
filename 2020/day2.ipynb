{
 "cells": [
  {
   "cell_type": "code",
   "execution_count": 1,
   "metadata": {},
   "outputs": [],
   "source": [
    "import pandas as pd"
   ]
  },
  {
   "cell_type": "code",
   "execution_count": 2,
   "metadata": {},
   "outputs": [
    {
     "data": {
      "text/html": [
       "<div>\n",
       "<style scoped>\n",
       "    .dataframe tbody tr th:only-of-type {\n",
       "        vertical-align: middle;\n",
       "    }\n",
       "\n",
       "    .dataframe tbody tr th {\n",
       "        vertical-align: top;\n",
       "    }\n",
       "\n",
       "    .dataframe thead th {\n",
       "        text-align: right;\n",
       "    }\n",
       "</style>\n",
       "<table border=\"1\" class=\"dataframe\">\n",
       "  <thead>\n",
       "    <tr style=\"text-align: right;\">\n",
       "      <th></th>\n",
       "      <th>password</th>\n",
       "    </tr>\n",
       "  </thead>\n",
       "  <tbody>\n",
       "    <tr>\n",
       "      <th>0</th>\n",
       "      <td>4-7 z: zzzfzlzzz</td>\n",
       "    </tr>\n",
       "    <tr>\n",
       "      <th>1</th>\n",
       "      <td>3-4 l: blllk</td>\n",
       "    </tr>\n",
       "    <tr>\n",
       "      <th>2</th>\n",
       "      <td>8-11 j: jjjjjjjgjjjj</td>\n",
       "    </tr>\n",
       "    <tr>\n",
       "      <th>3</th>\n",
       "      <td>6-7 l: lllhlbl</td>\n",
       "    </tr>\n",
       "    <tr>\n",
       "      <th>4</th>\n",
       "      <td>10-13 x: xmhfsbjxptxxv</td>\n",
       "    </tr>\n",
       "  </tbody>\n",
       "</table>\n",
       "</div>"
      ],
      "text/plain": [
       "                 password\n",
       "0        4-7 z: zzzfzlzzz\n",
       "1            3-4 l: blllk\n",
       "2    8-11 j: jjjjjjjgjjjj\n",
       "3          6-7 l: lllhlbl\n",
       "4  10-13 x: xmhfsbjxptxxv"
      ]
     },
     "execution_count": 2,
     "metadata": {},
     "output_type": "execute_result"
    }
   ],
   "source": [
    "df = pd.read_csv('day2.csv', header = None, names=['password'])\n",
    "df.head()\n",
    "# df.tail()"
   ]
  },
  {
   "cell_type": "code",
   "execution_count": 3,
   "metadata": {},
   "outputs": [
    {
     "data": {
      "text/plain": [
       "1000"
      ]
     },
     "execution_count": 3,
     "metadata": {},
     "output_type": "execute_result"
    }
   ],
   "source": [
    "len(df)"
   ]
  },
  {
   "cell_type": "markdown",
   "metadata": {},
   "source": [
    "## Part 1"
   ]
  },
  {
   "cell_type": "code",
   "execution_count": 4,
   "metadata": {},
   "outputs": [
    {
     "name": "stdout",
     "output_type": "stream",
     "text": [
      "396\n",
      "CPU times: user 49.2 ms, sys: 2.37 ms, total: 51.6 ms\n",
      "Wall time: 59.5 ms\n"
     ]
    }
   ],
   "source": [
    "%%time\n",
    "i = 0\n",
    "valid_pwd_count = 0\n",
    "\n",
    "for i in range(i, len(df)):\n",
    "    parts = df['password'][i].split(' ')\n",
    "    numbers = parts[0].split('-')\n",
    "    min_value = int(numbers[0])\n",
    "    max_value = int(numbers[1])\n",
    "    \n",
    "    given_letter = parts[1].replace(\":\",\"\")\n",
    "    passwords = parts[2]\n",
    "    letter_count = passwords.count(given_letter)\n",
    "    \n",
    "    if (letter_count >= min_value) and (letter_count <= max_value):\n",
    "        valid_pwd_count = valid_pwd_count + 1\n",
    "\n",
    "print(valid_pwd_count)"
   ]
  },
  {
   "cell_type": "markdown",
   "metadata": {},
   "source": [
    "## Part 2"
   ]
  },
  {
   "cell_type": "code",
   "execution_count": 5,
   "metadata": {},
   "outputs": [
    {
     "name": "stdout",
     "output_type": "stream",
     "text": [
      "428\n",
      "CPU times: user 47.4 ms, sys: 2.11 ms, total: 49.5 ms\n",
      "Wall time: 52.3 ms\n"
     ]
    }
   ],
   "source": [
    "%%time\n",
    "i = 0\n",
    "valid_pwd_count = 0\n",
    "\n",
    "for i in range(i, len(df)):\n",
    "    parts = df['password'][i].split(' ')\n",
    "    numbers = parts[0].split('-')\n",
    "    first = int(numbers[0]) - 1\n",
    "    second = int(numbers[1]) - 1\n",
    "    \n",
    "    given_letter = parts[1].replace(\":\",\"\")\n",
    "    passwords = parts[2]\n",
    "    \n",
    "    if (passwords[first] == given_letter) ^ (passwords[second] == given_letter): # XOR Logic Gate\n",
    "        valid_pwd_count = valid_pwd_count + 1\n",
    "\n",
    "print(valid_pwd_count)"
   ]
  },
  {
   "cell_type": "code",
   "execution_count": null,
   "metadata": {},
   "outputs": [],
   "source": []
  }
 ],
 "metadata": {
  "kernelspec": {
   "display_name": "Python 3",
   "language": "python",
   "name": "python3"
  },
  "language_info": {
   "codemirror_mode": {
    "name": "ipython",
    "version": 3
   },
   "file_extension": ".py",
   "mimetype": "text/x-python",
   "name": "python",
   "nbconvert_exporter": "python",
   "pygments_lexer": "ipython3",
   "version": "3.6.7"
  }
 },
 "nbformat": 4,
 "nbformat_minor": 2
}
